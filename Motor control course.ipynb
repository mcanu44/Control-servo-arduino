{
 "cells": [
  {
   "cell_type": "markdown",
   "metadata": {},
   "source": [
    "# DC motor control"
   ]
  },
  {
   "cell_type": "markdown",
   "metadata": {},
   "source": [
    "## Preparing arduino \n",
    "You need to download the required software to arduino to comunicate trough the serial port the following\n",
    "* Read Motor power levet -100 to 100.\n",
    "* Write motor Encoder counts.\n",
    "* Write pendulum Encoder counts."
   ]
  },
  {
   "cell_type": "markdown",
   "metadata": {},
   "source": [
    "### Read Motor power levet -255 to 255\n",
    "#### Copy this code into arduino IDE and upload to the board\n",
    "\n",
    "\n",
    "\n",
    "\n"
   ]
  },
  {
   "cell_type": "markdown",
   "metadata": {},
   "source": [
    "#### Test pyton is sending the commands\n",
    "Run the cell and update the speed value for testing"
   ]
  },
  {
   "cell_type": "code",
   "execution_count": 1,
   "metadata": {
    "collapsed": false
   },
   "outputs": [
    {
     "data": {
      "text/plain": [
       "10"
      ]
     },
     "execution_count": 1,
     "metadata": {},
     "output_type": "execute_result"
    }
   ],
   "source": [
    "2*5"
   ]
  },
  {
   "cell_type": "markdown",
   "metadata": {
    "collapsed": true
   },
   "source": [
    "# DC motor control test\n",
    "\n",
    "Is a bit advanced but could be one of the objectives for the final course"
   ]
  },
  {
   "cell_type": "markdown",
   "metadata": {},
   "source": [
    "# DC motor integration"
   ]
  },
  {
   "cell_type": "markdown",
   "metadata": {},
   "source": [
    "# first working code for reading encoder and comanding the motor"
   ]
  },
  {
   "cell_type": "code",
   "execution_count": 9,
   "metadata": {
    "collapsed": false
   },
   "outputs": [
    {
     "name": "stderr",
     "output_type": "stream",
     "text": [
      "Exception in Tkinter callback\n",
      "Traceback (most recent call last):\n",
      "  File \"C:\\Anaconda3\\lib\\tkinter\\__init__.py\", line 1550, in __call__\n",
      "    return self.func(*args)\n",
      "  File \"C:\\Anaconda3\\lib\\tkinter\\__init__.py\", line 596, in callit\n",
      "    func(*args)\n",
      "  File \"<ipython-input-9-72df7c0f270c>\", line 10, in update\n",
      "    root.update()\n",
      "  File \"C:\\Anaconda3\\lib\\tkinter\\__init__.py\", line 1025, in update\n",
      "    self.tk.call('update')\n",
      "_tkinter.TclError: can't invoke \"update\" command: application has been destroyed\n"
     ]
    }
   ],
   "source": [
    "import serial\n",
    "from tkinter import *\n",
    "from time import sleep\n",
    "arduinoSerialData = serial.Serial('com8', 9600)\n",
    "\n",
    "def update():\n",
    "    while (1==1):  #Create a loop that continues to read and display the data\n",
    "        if (arduinoSerialData.inWaiting()>0):#Check to see if a data point is available on the serial port\n",
    "            reading.set(arduinoSerialData.readline().strip()) #Read the encoder, convets the data into and integer and remove the  \\r=carriage return and \\n=new line characters\n",
    "            root.update()\n",
    "            #sleep(1)\n",
    "            \n",
    "def click():\n",
    "    mesy.set(entry.get())\n",
    "    txtr=entry.get()+'\\n'\n",
    "    texttoarduion=txtr.encode('utf-8')\n",
    "    arduinoSerialData.write(texttoarduion)\n",
    "    #return mes\n",
    "root=Tk()\n",
    "mesy = StringVar()\n",
    "mesy.set('')\n",
    "\n",
    "reading = StringVar()\n",
    "spe = StringVar()\n",
    "button = Button(root, text='Click', command=click)\n",
    "button.pack()\n",
    "w = Label(root, textvariable = reading)\n",
    "w.pack()\n",
    "label = Label(root, textvariable=mesy)\n",
    "label.pack()\n",
    "entry = Entry(root, textvariable=spe)\n",
    "entry.pack()\n",
    "\n",
    "\n",
    "root.after(1,update)    \n",
    "root.mainloop()\n"
   ]
  },
  {
   "cell_type": "code",
   "execution_count": null,
   "metadata": {
    "collapsed": true
   },
   "outputs": [],
   "source": [
    "## example on how to entry value in a text box and make classes"
   ]
  },
  {
   "cell_type": "code",
   "execution_count": 3,
   "metadata": {
    "collapsed": false
   },
   "outputs": [
    {
     "name": "stdout",
     "output_type": "stream",
     "text": [
      "Enter pressed\n"
     ]
    }
   ],
   "source": [
    "import tkinter as tk\n",
    "\n",
    "\n",
    "class Application(tk.Frame):\n",
    "    def __init__(self, master=None):\n",
    "        tk.Frame.__init__(self, master)\n",
    "        self.createWidgets()\n",
    "\n",
    "    def createWidgets(self):\n",
    "        self.outputbox = tk.Text()\n",
    "        self.outputbox[\"width\"] = 20\n",
    "        self.outputbox[\"height\"] = 1\n",
    "        self.outputbox.grid()\n",
    "        self.outputbox.bind('<Return>', self.FireonEnter)\n",
    "\n",
    "    def FireonEnter(self, event):\n",
    "        print('Enter pressed')\n",
    "\n",
    "root = tk.Tk()\n",
    "app = Application(root)\n",
    "root.mainloop()"
   ]
  },
  {
   "cell_type": "markdown",
   "metadata": {},
   "source": [
    "## Run to release the serial port"
   ]
  },
  {
   "cell_type": "code",
   "execution_count": 31,
   "metadata": {
    "collapsed": false
   },
   "outputs": [],
   "source": [
    "arduinoSerialData.close()"
   ]
  },
  {
   "cell_type": "markdown",
   "metadata": {},
   "source": [
    "## adding the ability to writing data directly from textbox to motor"
   ]
  },
  {
   "cell_type": "code",
   "execution_count": null,
   "metadata": {
    "collapsed": false
   },
   "outputs": [],
   "source": [
    "import serial\n",
    "from tkinter import *\n",
    "from time import sleep\n",
    "arduinoSerialData.close()\n",
    "arduinoSerialData = serial.Serial('com8', 9600)\n",
    "\n",
    "def update():\n",
    "    while (1==1):  #Create a loop that continues to read and display the data\n",
    "        if (arduinoSerialData.inWaiting()>0):#Check to see if a data point is available on the serial port\n",
    "            reading.set(arduinoSerialData.readline().strip()) #Read the encoder, convets the data into and integer and remove the  \\r=carriage return and \\n=new line characters\n",
    "            root.update()\n",
    "            #sleep(1)\n",
    "            \n",
    "def click():\n",
    "    mesy.set(entry.get())\n",
    "    txtr=entry.get()+'\\n'\n",
    "    texttoarduion=txtr.encode('utf-8')\n",
    "    arduinoSerialData.write(texttoarduion)\n",
    "    #return mes\n",
    "\n",
    "lasStr=\"0\"\n",
    "root=Tk()\n",
    "mesy = StringVar()\n",
    "mesy.set('')\n",
    "\n",
    "reading = StringVar()\n",
    "spe = StringVar()\n",
    "spe.set('0')\n",
    "las = StringVar()\n",
    "button = Button(root, text='Click', command=click)\n",
    "button.pack()\n",
    "w = Label(root, textvariable = reading)\n",
    "w.pack()\n",
    "label = Label(root, textvariable=mesy)\n",
    "label.pack()\n",
    "label2 = Label(root, textvariable=las)\n",
    "label2.pack()\n",
    "entry = Entry(root, textvariable=spe )\n",
    "entry.pack()\n",
    "lasStr=spe.get()\n",
    "las.set=lasStr[0]\n",
    "#if entry[-1]==\"\\n\":\n",
    "#    click()\n",
    "\n",
    "root.after(1,update)    \n",
    "root.mainloop()\n",
    "arduinoSerialData.close()"
   ]
  },
  {
   "cell_type": "markdown",
   "metadata": {},
   "source": []
  },
  {
   "cell_type": "markdown",
   "metadata": {},
   "source": []
  },
  {
   "cell_type": "markdown",
   "metadata": {},
   "source": []
  },
  {
   "cell_type": "code",
   "execution_count": null,
   "metadata": {
    "collapsed": false
   },
   "outputs": [],
   "source": []
  },
  {
   "cell_type": "code",
   "execution_count": null,
   "metadata": {
    "collapsed": true
   },
   "outputs": [],
   "source": []
  },
  {
   "cell_type": "code",
   "execution_count": null,
   "metadata": {
    "collapsed": true
   },
   "outputs": [],
   "source": []
  },
  {
   "cell_type": "code",
   "execution_count": null,
   "metadata": {
    "collapsed": true
   },
   "outputs": [],
   "source": []
  },
  {
   "cell_type": "code",
   "execution_count": null,
   "metadata": {
    "collapsed": true
   },
   "outputs": [],
   "source": []
  }
 ],
 "metadata": {
  "kernelspec": {
   "display_name": "Python [Root]",
   "language": "python",
   "name": "Python [Root]"
  },
  "language_info": {
   "codemirror_mode": {
    "name": "ipython",
    "version": 3
   },
   "file_extension": ".py",
   "mimetype": "text/x-python",
   "name": "python",
   "nbconvert_exporter": "python",
   "pygments_lexer": "ipython3",
   "version": "3.5.2"
  }
 },
 "nbformat": 4,
 "nbformat_minor": 0
}

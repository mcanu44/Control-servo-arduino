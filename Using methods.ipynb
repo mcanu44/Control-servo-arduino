{
 "cells": [
  {
   "cell_type": "markdown",
   "metadata": {},
   "source": [
    "# Using methods\n",
    "So far we’ve seen lots of functions: built-in functions, functions inside modules, and functions that we’ve defined.\n",
    "A method is another kind of function that is attached to a particular type.\n",
    "There are str methods, int methods, bool\n",
    "methods, and more—every type has its own set of methods. In this chapter, we’ll explore how to use methods and also how they differ from the rest of the functions that we’ve seen.\n",
    "\n",
    "\n",
    "# 7.1 Modules, Classes, and Methods\n",
    "\n",
    "In Section 6.1, Importing Modules, on page 100, we saw that a module is a kind\n",
    "of object, one that can contain functions and other variables. There is\n",
    "another kind of object that is similar to a module: a class. You’ve been using\n",
    "classes all along, probably without realizing it: a class is how Python represents\n",
    "a type.\n",
    "\n",
    "You may have called built-in function help on int, float, bool, or str. We’ll do that now with str (notice that the first line says that it’s a class):"
   ]
  },
  {
   "cell_type": "markdown",
   "metadata": {},
   "source": [
    ">>> help(str)\n",
    "Help on class str in module builtins:\n",
    "class str(object)\n",
    "| str(object[, encoding[, errors]]) -> str\n",
    "||\n",
    "Create a new string object from the given object. If encoding or\n",
    "| errors is specified, then the object must expose a data buffer\n",
    "| that will be decoded using the given encoding and error handler.\n",
    "| Otherwise, returns the result of object.__str__() (if defined)\n",
    "| or repr(object).\n",
    "| encoding defaults to sys.getdefaultencoding().\n",
    "| errors defaults to 'strict'.\n",
    "||\n",
    "Methods defined here:"
   ]
  },
  {
   "cell_type": "code",
   "execution_count": null,
   "metadata": {
    "collapsed": false
   },
   "outputs": [],
   "source": []
  },
  {
   "cell_type": "code",
   "execution_count": null,
   "metadata": {
    "collapsed": false
   },
   "outputs": [],
   "source": []
  },
  {
   "cell_type": "code",
   "execution_count": null,
   "metadata": {
    "collapsed": true
   },
   "outputs": [],
   "source": []
  }
 ],
 "metadata": {
  "anaconda-cloud": {},
  "kernelspec": {
   "display_name": "Python [Root]",
   "language": "python",
   "name": "Python [Root]"
  },
  "language_info": {
   "codemirror_mode": {
    "name": "ipython",
    "version": 3
   },
   "file_extension": ".py",
   "mimetype": "text/x-python",
   "name": "python",
   "nbconvert_exporter": "python",
   "pygments_lexer": "ipython3",
   "version": "3.5.2"
  }
 },
 "nbformat": 4,
 "nbformat_minor": 0
}

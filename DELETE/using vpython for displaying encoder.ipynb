{
 "cells": [
  {
   "cell_type": "code",
   "execution_count": 2,
   "metadata": {
    "collapsed": false
   },
   "outputs": [
    {
     "ename": "ImportError",
     "evalue": "No module named 'visual'",
     "output_type": "error",
     "traceback": [
      "\u001b[1;31m---------------------------------------------------------------------------\u001b[0m",
      "\u001b[1;31mImportError\u001b[0m                               Traceback (most recent call last)",
      "\u001b[1;32m<ipython-input-2-094d19dac92a>\u001b[0m in \u001b[0;36m<module>\u001b[1;34m()\u001b[0m\n\u001b[0;32m      1\u001b[0m \u001b[1;32mimport\u001b[0m \u001b[0mserial\u001b[0m \u001b[1;31m#Import Serial Library\u001b[0m\u001b[1;33m\u001b[0m\u001b[0m\n\u001b[1;32m----> 2\u001b[1;33m \u001b[1;32mfrom\u001b[0m \u001b[0mvisual\u001b[0m \u001b[1;32mimport\u001b[0m \u001b[1;33m*\u001b[0m \u001b[1;31m#Import all the vPython library\u001b[0m\u001b[1;33m\u001b[0m\u001b[0m\n\u001b[0m\u001b[0;32m      3\u001b[0m \u001b[1;33m\u001b[0m\u001b[0m\n\u001b[0;32m      4\u001b[0m \u001b[0marduinoSerialData\u001b[0m \u001b[1;33m=\u001b[0m \u001b[0mserial\u001b[0m\u001b[1;33m.\u001b[0m\u001b[0mSerial\u001b[0m\u001b[1;33m(\u001b[0m\u001b[1;34m'com8'\u001b[0m\u001b[1;33m,\u001b[0m \u001b[1;36m9600\u001b[0m\u001b[1;33m)\u001b[0m \u001b[1;31m#Create an object for the Serial port. Adjust 'com8' to whatever port your arduino is sending to.\u001b[0m\u001b[1;33m\u001b[0m\u001b[0m\n\u001b[0;32m      5\u001b[0m \u001b[0mmeasuringRod\u001b[0m \u001b[1;33m=\u001b[0m \u001b[0mcylinder\u001b[0m\u001b[1;33m(\u001b[0m \u001b[0mradius\u001b[0m\u001b[1;33m=\u001b[0m \u001b[1;36m.1\u001b[0m\u001b[1;33m,\u001b[0m \u001b[0mlength\u001b[0m\u001b[1;33m=\u001b[0m\u001b[1;36m6\u001b[0m\u001b[1;33m,\u001b[0m \u001b[0mcolor\u001b[0m\u001b[1;33m=\u001b[0m\u001b[0mcolor\u001b[0m\u001b[1;33m.\u001b[0m\u001b[0myellow\u001b[0m\u001b[1;33m,\u001b[0m \u001b[0mpos\u001b[0m\u001b[1;33m=\u001b[0m\u001b[1;33m(\u001b[0m\u001b[1;33m-\u001b[0m\u001b[1;36m3\u001b[0m\u001b[1;33m,\u001b[0m\u001b[1;33m-\u001b[0m\u001b[1;36m2\u001b[0m\u001b[1;33m,\u001b[0m\u001b[1;36m0\u001b[0m\u001b[1;33m)\u001b[0m\u001b[1;33m)\u001b[0m\u001b[1;33m\u001b[0m\u001b[0m\n",
      "\u001b[1;31mImportError\u001b[0m: No module named 'visual'"
     ]
    }
   ],
   "source": [
    "import serial #Import Serial Library\n",
    "from visual import * #Import all the vPython library\n",
    "\n",
    "arduinoSerialData = serial.Serial('com8', 9600) #Create an object for the Serial port. Adjust 'com8' to whatever port your arduino is sending to.\n",
    "measuringRod = cylinder( radius= .1, length=6, color=color.yellow, pos=(-3,-2,0))\n",
    "lengthLabel = label(pos=(0,5,0), text='Target Distance is: ', box=false, height=30)\n",
    "target=box(pos=(0,-.5,0), length=.2, width=3, height=3, color=color.green)\n",
    "while (1==1):  #Create a loop that continues to read and display the data\n",
    "    rate(1000)#Tell vpython to run this loop 20 times a second\n",
    "    if (arduinoSerialData.inWaiting()>0):  #Check to see if a data point is available on the serial port\n",
    "        myData = arduinoSerialData.readline() #Read the distance measure as a string\n",
    "        print (myData) #Print the measurement to confirm things are working\n",
    "        distance = float(myData)/100 #convert reading to a floating point number\n",
    "        measuringRod.length=distance #Change the length of your measuring rod to your last measurement\n",
    "        target.pos=(-3+distance,-.5,0)\n",
    "        myLabel= 'Target Distance is: ' + myData #Create label by appending string myData to string\n",
    "        lengthLabel.text = myLabel #display updated myLabel on your graphic"
   ]
  },
  {
   "cell_type": "code",
   "execution_count": null,
   "metadata": {
    "collapsed": true
   },
   "outputs": [],
   "source": []
  }
 ],
 "metadata": {
  "kernelspec": {
   "display_name": "VPython",
   "language": "python",
   "name": "vpython"
  },
  "language_info": {
   "codemirror_mode": {
    "name": "ipython",
    "version": 3
   },
   "file_extension": ".py",
   "mimetype": "text/x-python",
   "name": "python",
   "nbconvert_exporter": "python",
   "pygments_lexer": "ipython3",
   "version": "3.5.2"
  }
 },
 "nbformat": 4,
 "nbformat_minor": 0
}

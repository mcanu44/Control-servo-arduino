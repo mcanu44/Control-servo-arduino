{
 "cells": [
  {
   "cell_type": "markdown",
   "metadata": {},
   "source": [
    "# Using Module Tkinter\n",
    "Every tkinter program consists of these things:\n",
    "- Windows, buttons, scrollbars, text areas, and other widgets—anything\n",
    "that you can see on the computer screen (Generally, the term widget\n",
    "means any useful object; in programming, it is short for “window gadget.”)\n",
    "- Modules, functions, and classes that manage the data that is being shown\n",
    "in the GUI—you are familiar with these; they are the tools you’ve seen so\n",
    "far in this book.\n",
    "- An event manager that listens for events such as mouse clicks and\n",
    "keystrokes and reacts to these events by calling event handler functions"
   ]
  },
  {
   "cell_type": "code",
   "execution_count": 3,
   "metadata": {
    "collapsed": false
   },
   "outputs": [],
   "source": [
    "import tkinter\n",
    "window = tkinter.Tk() #Tk is a class that represents the root window of a tkinter GUI\n",
    "window.mainloop() #This root window’s mainloop method handles all the events for the GUI"
   ]
  },
  {
   "cell_type": "markdown",
   "metadata": {},
   "source": [
    "Tk is a class that represents the root window of a tkinter GUI. This root window’s\n",
    "mainloop method handles all the events for the GUI, so it’s important to create\n",
    "only one instance of Tk."
   ]
  },
  {
   "cell_type": "markdown",
   "metadata": {},
   "source": [
    "The root window is initially empty; you’ll see in the next section how to add\n",
    "widgets to it. If the window on the screen is closed, the window object is\n",
    "destroyed (though we can create a new root window by calling Tk() again). All\n",
    "of the applications we will create have only one root window, but additional\n",
    "windows can be created using the TopLevel widget."
   ]
  },
  {
   "cell_type": "markdown",
   "metadata": {},
   "source": [
    "The call on method mainloop doesn’t exit until the window is destroyed (which\n",
    "happens when you click the appropriate widget in the title bar of the window),\n",
    "so any code following that call won’t be executed until later:"
   ]
  },
  {
   "cell_type": "code",
   "execution_count": 5,
   "metadata": {
    "collapsed": false
   },
   "outputs": [
    {
     "name": "stdout",
     "output_type": "stream",
     "text": [
      "Anybody home?\n"
     ]
    }
   ],
   "source": [
    "import tkinter\n",
    "window = tkinter.Tk()\n",
    "window.mainloop()\n",
    "print('Anybody home?')"
   ]
  },
  {
   "cell_type": "markdown",
   "metadata": {},
   "source": [
    "When you try this code, you’ll see that the call on function print doesn’t get\n",
    "executed until after the window is destroyed. That means that if you want to\n",
    "make changes to the GUI after you have called mainloop, you need to do it in\n",
    "an event-handling function."
   ]
  },
  {
   "cell_type": "markdown",
   "metadata": {},
   "source": [
    "The following table gives a list of some of the available tkinter widgets:\n",
    "### Widget Description\n",
    "- **Button** A clickable button\n",
    "- **Canvas** An area used for drawing or displaying images\n",
    "- **Checkbutton** A clickable box that can be selected or unselected\n",
    "- **Entry** A single-line text field that the user can type in\n",
    "- **Frame** A container for widgets\n",
    "- **Label** A single-line display for text\n",
    "- **Listbox** A drop-down list that the user can select from\n",
    "- **Menu** A drop-down menu\n",
    "- **Message** A multiline display for text\n",
    "- **Menubutton** An item in a drop-down menu\n",
    "- **Text** A multiline text field that the user can type in\n",
    "- **TopLevel** An additional window"
   ]
  },
  {
   "cell_type": "markdown",
   "metadata": {},
   "source": [
    "# Building a Basic GUI\n",
    "Labels are widgets that are used to display short pieces of text. Here we create\n",
    "a Label that belongs to the root window—its parent widget—and we specify\n",
    "the text to be displayed by assigning it to the Label’s text parameter."
   ]
  },
  {
   "cell_type": "code",
   "execution_count": 6,
   "metadata": {
    "collapsed": true
   },
   "outputs": [],
   "source": [
    "import tkinter\n",
    "window = tkinter.Tk() \n",
    "label = tkinter.Label(window, text='This is our label.') #creates a lable within the window and asing tesx to it\n",
    "label.pack() #places it in its parent widget and then tells the parent to resize itself as necessary\n",
    "window.mainloop()"
   ]
  },
  {
   "cell_type": "markdown",
   "metadata": {},
   "source": [
    "Method call label.pack() is crucial. Each widget has a method called pack that places\n",
    "it in its parent widget and then tells the parent to resize itself as necessary. If we\n",
    "forget to call this method, the child widget (in this case, Label) won’t be displayed\n",
    "or will be displayed improperly.\n",
    "\n",
    "Labels display text. Often, applications will want to update a label’s text as the\n",
    "program runs to show things like the name of a file or the time of day. One way\n",
    "to do this is simply to assign a new value to the widget’s text using method config:"
   ]
  },
  {
   "cell_type": "code",
   "execution_count": 12,
   "metadata": {
    "collapsed": true
   },
   "outputs": [],
   "source": [
    "import tkinter\n",
    "window = tkinter.Tk()\n",
    "label = tkinter.Label(window, text='First label.')\n",
    "label.pack()\n",
    "label.config(text='Second label.')\n",
    "window.mainloop()"
   ]
  },
  {
   "cell_type": "markdown",
   "metadata": {},
   "source": [
    "## Using Mutable Variables with Widgets\n",
    "\n",
    "Suppose you want to display a string, such as the current time or a score in\n",
    "a game, in several places in a GUI—the application’s status bar, some dialog\n",
    "boxes, and so on. Calling method config on each widget every time there is new\n",
    "information isn’t hard, but as the application grows, so too do the odds that\n",
    "we’ll forget to update at least one of the widgets that’s displaying the string.\n",
    "What we really want is a string that “knows” which widgets care about its\n",
    "value and can alert them itself when that value changes.\n",
    "\n",
    "Python’s strings, integers, floating-point numbers, and Booleans are immutable,\n",
    "so module tkinter provides one class for each of the immutable types: \n",
    "- StringVar for str, \n",
    "- IntVar for int,  \n",
    "- BooleanVar for bool, and  \n",
    "- DoubleVar for float. \n",
    "\n",
    "(The use of the word double is historical; it is short for “double-precision floating-point number.”) These\n",
    "mutable types can be used instead of the immutable ones; here we show how to\n",
    "use a StringVar instead of a str:"
   ]
  },
  {
   "cell_type": "code",
   "execution_count": 13,
   "metadata": {
    "collapsed": true
   },
   "outputs": [],
   "source": [
    "import tkinter\n",
    "window = tkinter.Tk()\n",
    "data = tkinter.StringVar()\n",
    "data.set('Data to display')\n",
    "label = tkinter.Label(window, textvariable=data)\n",
    "label.pack()\n",
    "window.mainloop()"
   ]
  },
  {
   "cell_type": "markdown",
   "metadata": {},
   "source": [
    "## Grouping Widgets with the Frame Type\n",
    "A tkinter Frame is a container, much like the root window is a container. Frames\n",
    "are not directly visible on the screen; instead, they are used to organize other\n",
    "widgets. The following code creates a frame, puts it in the root window, and\n",
    "then adds three Labels to the frame:"
   ]
  },
  {
   "cell_type": "code",
   "execution_count": 21,
   "metadata": {
    "collapsed": true
   },
   "outputs": [],
   "source": [
    "import tkinter\n",
    "window = tkinter.Tk()\n",
    "frame = tkinter.Frame(window)\n",
    "frame.pack()\n",
    "first = tkinter.Label(frame, text='First label')\n",
    "first.pack()\n",
    "second = tkinter.Label(frame, text='Second label')\n",
    "second.pack()\n",
    "third = tkinter.Label(frame, text='Third label')\n",
    "third.pack()\n",
    "window.mainloop()"
   ]
  },
  {
   "cell_type": "markdown",
   "metadata": {},
   "source": [
    "Note that we call pack on every widget; if we omit one of these calls, that widget\n",
    "will not be displayed.\n",
    "\n",
    "In this particular case, putting the three Labels in a frame looks the same as\n",
    "when we put the Labels directly into the root window. However, with a more\n",
    "complicated GUI, we can use multiple frames to format the window’s content\n",
    "and layout.\n",
    "\n",
    "Here’s an example with the same three Labels but with two frames instead of\n",
    "one. The second frame has a visual border around it:"
   ]
  },
  {
   "cell_type": "code",
   "execution_count": 22,
   "metadata": {
    "collapsed": true
   },
   "outputs": [],
   "source": [
    "import tkinter\n",
    "window = tkinter.Tk()\n",
    "frame = tkinter.Frame(window)\n",
    "frame.pack()\n",
    "frame2 = tkinter.Frame(window, borderwidth=4, relief=tkinter.GROOVE)\n",
    "frame2.pack()\n",
    "first = tkinter.Label(frame, text='First label')\n",
    "first.pack()\n",
    "second = tkinter.Label(frame2, text='Second label')\n",
    "second.pack()\n",
    "third = tkinter.Label(frame2, text='Third label')\n",
    "third.pack()\n",
    "window.mainloop()"
   ]
  },
  {
   "cell_type": "markdown",
   "metadata": {},
   "source": [
    "We specify the border width using the \n",
    "- borderwidth keyword argument (0 is thedefault) and \n",
    "\n",
    "the border style using \n",
    "- relief (FLAT is the default). \n",
    "\n",
    "The other border styles are \n",
    "- SUNKEN, \n",
    "- RAISED, \n",
    "- GROOVE, and \n",
    "- RIDGE."
   ]
  },
  {
   "cell_type": "markdown",
   "metadata": {},
   "source": [
    "## Getting Information from the User with the Entry Type\n",
    "Two widgets let users enter text. The simplest one is **Entry**, which allows for a\n",
    "single line of text. If we associate a StringVar with the Entry, then whenever a\n",
    "user types anything into that Entry, the StringVar’s value will automatically be\n",
    "updated to the contents of the Entry.\n",
    "\n",
    "Here’s an example that associates a single StringVar with both a Label and an Entry.\n",
    "When the user enters text in the Entry, the StringVar’s contents will change. This\n",
    "will cause the Label to be updated, and so the Label will display whatever is currently\n",
    "in the Entry.\n"
   ]
  },
  {
   "cell_type": "code",
   "execution_count": 2,
   "metadata": {
    "collapsed": false
   },
   "outputs": [],
   "source": [
    "import tkinter\n",
    "window = tkinter.Tk()\n",
    "frame = tkinter.Frame(window)\n",
    "frame.pack()\n",
    "var = tkinter.StringVar()\n",
    "label = tkinter.Label(frame, textvariable=var)\n",
    "label.pack()\n",
    "entry = tkinter.Entry(frame, textvariable=var)\n",
    "entry.pack()\n",
    "window.mainloop()"
   ]
  },
  {
   "cell_type": "markdown",
   "metadata": {},
   "source": [
    "# Models, Views, and Controllers, Oh My!\n",
    "Using a StringVar to connect a text-entry box and a label is the first step toward\n",
    "separating \n",
    "- models (How do we represent the data?), \n",
    "- views (How do we display the data?), and \n",
    "- controllers (How do we modify the data?), \n",
    "which is the key to building larger GUIs (as well as many other kinds of applications).\n",
    "\n",
    "This MVC design helps separate the parts of an application, which will make the application\n",
    "easier to understand and modify. The main goal of this design is to\n",
    "keep the representation of the data separate from the parts of the program\n",
    "that the user interacts with; that way, it is easier to make changes to the GUI\n",
    "code without affecting the code that manipulates the data.\n",
    "\n",
    "As its name suggests, a view is something that displays information to the\n",
    "user, like Label. Many views, like Entry, also accept input, which they display\n",
    "immediately. The key is that they don’t do anything else: they don’t calculate\n",
    "average temperatures, move robot arms, or do any other calculations.\n",
    "\n",
    "Models, on the other hand, store data, like a piece of text or the current\n",
    "inclination of a telescope. They also don’t do calculations; their job is simply\n",
    "to keep track of the application’s current state (and, in some cases, to save\n",
    "that state to a file or database and reload it later).\n",
    "\n",
    "Controllers are the pieces that convert user input into calls on functions in\n",
    "the model that manipulate the data. The controller is what decides whether\n",
    "two gene sequences match well enough to be colored green or whether\n",
    "someone is allowed to overwrite an old results file.\n",
    "\n",
    "Controllers may update an application’s models, which in turn can trigger changes to its views.\n",
    "The following code shows what all of this looks like in practice. Here the\n",
    "model is kept track of by variable counter, which refers to an IntVar so that the\n",
    "view will update itself automatically. The controller is function click, which\n",
    "updates the model whenever a button is clicked. Four objects make up the\n",
    "view: the root window, a Frame, a Label that shows the current value of counter,\n",
    "and a button that the user can click to increment the counter’s value:"
   ]
  },
  {
   "cell_type": "code",
   "execution_count": 5,
   "metadata": {
    "collapsed": true
   },
   "outputs": [],
   "source": [
    "import tkinter\n",
    "# The controller.\n",
    "def click():\n",
    "    counter.set(counter.get() + 1)\n",
    "if __name__ == '__main__':\n",
    "    window = tkinter.Tk()\n",
    "    # The model.\n",
    "    counter = tkinter.IntVar()\n",
    "    counter.set(0)\n",
    "    # The views.\n",
    "    frame = tkinter.Frame(window)\n",
    "    frame.pack()\n",
    "    button = tkinter.Button(frame, text='Click', command=click)\n",
    "    button.pack()\n",
    "    label = tkinter.Label(frame, textvariable=counter)\n",
    "    label.pack()\n",
    "    # Start the machinery!\n",
    "    window.mainloop()"
   ]
  },
  {
   "cell_type": "markdown",
   "metadata": {
    "collapsed": true
   },
   "source": [
    "The first two arguments used to construct the Button should be familiar by\n",
    "now. The third, command=click, tells it to call function click each time the user\n",
    "presses the button. This makes use of the fact that in Python a function is\n",
    "just another kind of object and can be passed as an argument like anything\n",
    "else.\n",
    "\n",
    "Function click in the previous code does not have any parameters but uses\n",
    "variable counter, which is defined outside the function. Variables like this are\n",
    "called global  variables, and their use should be avoided, since they make\n",
    "programs hard to understand. It would be better to pass any variables the\n",
    "function needs into it as parameters. We can’t do this using the tools we have\n",
    "seen so far, because the functions that our buttons can call must not have\n",
    "any parameters. We will show you one way to avoid using global variables in\n",
    "the next section."
   ]
  },
  {
   "cell_type": "markdown",
   "metadata": {
    "collapsed": true
   },
   "source": [
    "### Using Lambda\n",
    "The simple counter GUI shown earlier does what it’s supposed to, but there\n",
    "is room for improvement. For example, suppose we want to be able to lower\n",
    "the counter’s value as well as raise it.\n",
    "Using only the tools we have seen so far, we could add another button and\n",
    "another controller function like this:"
   ]
  },
  {
   "cell_type": "code",
   "execution_count": 6,
   "metadata": {
    "collapsed": true
   },
   "outputs": [],
   "source": [
    "import tkinter\n",
    "window = tkinter.Tk()\n",
    "# The model.\n",
    "counter = tkinter.IntVar()\n",
    "counter.set(0)\n",
    "# Two controllers.\n",
    "def click_up():\n",
    "    counter.set(counter.get() + 1)\n",
    "def click_down():\n",
    "    counter.set(counter.get() - 1)\n",
    "# The views.\n",
    "frame = tkinter.Frame(window)\n",
    "frame.pack()\n",
    "button = tkinter.Button(frame, text='Up', command=click_up)\n",
    "button.pack()\n",
    "button = tkinter.Button(frame, text='Down', command=click_down)\n",
    "button.pack()\n",
    "label = tkinter.Label(frame, textvariable=counter)\n",
    "label.pack()\n",
    "window.mainloop()"
   ]
  },
  {
   "cell_type": "markdown",
   "metadata": {},
   "source": [
    "This seems a little clumsy, though. Functions click_up and click_down are doing\n",
    "almost the same thing; surely we ought to be able to combine them into one.\n",
    "While we’re at it, we’ll pass counter into the function explicitly rather than using\n",
    "it as a global variable:"
   ]
  },
  {
   "cell_type": "code",
   "execution_count": null,
   "metadata": {
    "collapsed": true
   },
   "outputs": [],
   "source": [
    "# The model.\n",
    "counter = tkinter.IntVar()\n",
    "counter.set(0)\n",
    "# One controller with parameters.\n",
    "def click(variable, value):\n",
    "    variable.set(variable.get() + value)"
   ]
  },
  {
   "cell_type": "markdown",
   "metadata": {},
   "source": [
    "The problem with this is figuring out what to pass into the buttons, since we\n",
    "can’t provide any arguments for the functions assigned to the buttons’ command\n",
    "keyword arguments when creating those buttons. tkinter cannot read our\n",
    "minds—it can’t magically know how many arguments our functions require\n",
    "or what values to pass in for them. For that reason, it requires that the controller\n",
    "functions triggered by buttons and other widgets take zero arguments\n",
    "so they can all be called the same way. It is our job to figure out how to take\n",
    "the two-argument function we want to use and turn it into one that needs\n",
    "no arguments at all.\n",
    "\n",
    "We could do this by writing a couple of wrapper functions:"
   ]
  },
  {
   "cell_type": "code",
   "execution_count": null,
   "metadata": {
    "collapsed": true
   },
   "outputs": [],
   "source": [
    "def click_up():\n",
    "    click(counter, 1)\n",
    "def click_down():\n",
    "    click(counter, -1)"
   ]
  },
  {
   "cell_type": "markdown",
   "metadata": {},
   "source": [
    "But this gets us back to two nearly identical functions that rely on global variables.\n",
    "A better way is to use a lambda function, which allows us to create a one-line\n",
    "function anywhere we want without giving it a name. Here’s a very simple example:"
   ]
  },
  {
   "cell_type": "code",
   "execution_count": 11,
   "metadata": {
    "collapsed": false
   },
   "outputs": [
    {
     "data": {
      "text/plain": [
       "<function __main__.<lambda>>"
      ]
     },
     "execution_count": 11,
     "metadata": {},
     "output_type": "execute_result"
    }
   ],
   "source": [
    "lambda: 3\n"
   ]
  },
  {
   "cell_type": "code",
   "execution_count": 10,
   "metadata": {
    "collapsed": false
   },
   "outputs": [
    {
     "data": {
      "text/plain": [
       "3"
      ]
     },
     "execution_count": 10,
     "metadata": {},
     "output_type": "execute_result"
    }
   ],
   "source": [
    "(lambda: 3)()"
   ]
  },
  {
   "cell_type": "markdown",
   "metadata": {},
   "source": [
    "The expression lambda: 3 on the first line creates a nameless function that\n",
    "always returns the number 3. The second expression creates this function\n",
    "and immediately calls it, which has the same effect as this:"
   ]
  },
  {
   "cell_type": "code",
   "execution_count": 12,
   "metadata": {
    "collapsed": false
   },
   "outputs": [
    {
     "data": {
      "text/plain": [
       "3"
      ]
     },
     "execution_count": 12,
     "metadata": {},
     "output_type": "execute_result"
    }
   ],
   "source": [
    "def f():\n",
    "        return 3\n",
    "\n",
    "f()"
   ]
  },
  {
   "cell_type": "markdown",
   "metadata": {},
   "source": [
    "However, the lambda form does not create a new variable or change an\n",
    "existing one. Finally, lambda functions can take arguments, just like other\n",
    "functions:"
   ]
  },
  {
   "cell_type": "code",
   "execution_count": 13,
   "metadata": {
    "collapsed": false
   },
   "outputs": [
    {
     "data": {
      "text/plain": [
       "6"
      ]
     },
     "execution_count": 13,
     "metadata": {},
     "output_type": "execute_result"
    }
   ],
   "source": [
    "(lambda x: 2 * x)(3)"
   ]
  },
  {
   "cell_type": "markdown",
   "metadata": {},
   "source": [
    "So how does this help us with GUIs? The answer is that it lets us write one\n",
    "controller function to handle different buttons in a general way and then wrap\n",
    "up calls to that function when and as needed. Here’s the two-button GUI once\n",
    "again using lambda functions:"
   ]
  },
  {
   "cell_type": "code",
   "execution_count": 14,
   "metadata": {
    "collapsed": true
   },
   "outputs": [],
   "source": [
    "import tkinter\n",
    "window = tkinter.Tk()\n",
    "# The model.\n",
    "counter = tkinter.IntVar()\n",
    "counter.set(0)\n",
    "# General controller.\n",
    "def click(var, value):\n",
    "    var.set(var.get() + value)\n",
    "# The views.\n",
    "frame = tkinter.Frame(window)\n",
    "frame.pack()\n",
    "button = tkinter.Button(frame, text='Up', command=lambda: click(counter, 1))\n",
    "button.pack()\n",
    "button = tkinter.Button(frame, text='Down', command=lambda: click(counter, -1))\n",
    "button.pack()\n",
    "label = tkinter.Label(frame, textvariable=counter)\n",
    "label.pack()\n",
    "window.mainloop()"
   ]
  },
  {
   "cell_type": "markdown",
   "metadata": {},
   "source": [
    "This code creates a zero-argument lambda function to pass into each button\n",
    "just where it’s needed. Those lambda functions then pass the right values\n",
    "into click. This is cleaner than the preceding code because the function definitions\n",
    "are enclosed in the call that uses them—there is no need to clutter the\n",
    "GUI with little functions that are used only in one place.\n",
    "\n",
    "Note, however, that it is a very bad idea to repeat the same function several\n",
    "times in different places—if you do that, the odds are very high that you will\n",
    "one day want to change them all but will miss one or two. If you find yourself\n",
    "wanting to do this, reorganize the code so that the function is defined only\n",
    "once."
   ]
  },
  {
   "cell_type": "markdown",
   "metadata": {},
   "source": [
    "## 16.4 Customizing the Visual Style\n",
    "Every windowing system has its own look and feel—square or rounded corners,\n",
    "particular colors, and so on. In this section, we’ll see how to change the\n",
    "appearance of GUI widgets to make applications look more distinctive.\n",
    "\n",
    "A note of caution before we begin: the default styles of some windowing\n",
    "systems have been chosen by experts trained in graphic design and humancomputer\n",
    "interaction. The odds are that any radical changes on your part\n",
    "will make things worse, not better. In particular, be careful about color (several\n",
    "percent of the male population has some degree of color blindness) and\n",
    "font size (many people, particularly the elderly, cannot read small text).\n",
    "\n",
    "### Changing Fonts\n",
    "Let’s start by changing the size, weight, slant, and family of the font used to\n",
    "display text. To specify the size, we provide the height as an integer in points.\n",
    "We can set the weight to either bold or normal and the slant to either italic\n",
    "(slanted) or roman (not slanted).\n",
    "The font families we can use depend on what system the program is running\n",
    "on. Common families include Times, Courier, and Verdana, but dozens of\n",
    "others are usually available. One note of caution though: if you choose an\n",
    "unusual font, people running your program on other computers might not\n",
    "have it, so your GUI might appear different than you’d like for them. Every\n",
    "operating system has a default font that will be used if the requested font\n",
    "isn’t installed.\n",
    "The following sets the font of a button to be 14 point, bold, italic, and Courier."
   ]
  },
  {
   "cell_type": "code",
   "execution_count": 15,
   "metadata": {
    "collapsed": true
   },
   "outputs": [],
   "source": [
    "import tkinter\n",
    "window = tkinter.Tk()\n",
    "button = tkinter.Button(window, text='Hello',font=('Courier', 14, 'bold italic'))\n",
    "button.pack()\n",
    "window.mainloop()"
   ]
  },
  {
   "cell_type": "markdown",
   "metadata": {},
   "source": [
    "Using this technique, you can set the font of any widget that displays text.\n",
    "### Changing Colors\n",
    "Almost all foreground colors can be set using the bg and fg keyword arguments,\n",
    "respectively. As the following code shows, we can set either of these to a\n",
    "standard color by specifying the color’s name, such as white, black, red,\n",
    "green, blue, cyan, yellow, or magenta:"
   ]
  },
  {
   "cell_type": "code",
   "execution_count": 16,
   "metadata": {
    "collapsed": true
   },
   "outputs": [],
   "source": [
    "import tkinter\n",
    "window = tkinter.Tk()\n",
    "button = tkinter.Label(window, text='Hello', bg='green', fg='white')\n",
    "button.pack()\n",
    "window.mainloop()"
   ]
  },
  {
   "cell_type": "markdown",
   "metadata": {},
   "source": [
    "As you can see, white text on a bright green background is not particularly\n",
    "readable.\n",
    "\n",
    "We can choose more colors by specifying them using the RGB color model.\n",
    "RGB is an abbreviation for “red, green, blue”; it turns out that every color\n",
    "can be created using different amounts of these three colors. The amount of\n",
    "each color is usually specified by a number between 0 and 255 (inclusive).\n",
    "\n",
    "These numbers are conventionally written in hexadecimal (base 16) notation;\n",
    "the best way to understand them is to play with them. Base 10 uses the digits\n",
    "0 through 9; base 16 uses those ten digits plus another six: A, B, C, D, E, and\n",
    "F. In base 16, the number 255 is written FF.\n",
    "\n",
    "The following color picker does this by updating a piece of text to show the\n",
    "color specified by the red, green, and blue values entered in the text boxes;\n",
    "choose any two base-16 digits for the RGB values and click the Update button:"
   ]
  },
  {
   "cell_type": "code",
   "execution_count": 18,
   "metadata": {
    "collapsed": false
   },
   "outputs": [],
   "source": [
    "import tkinter\n",
    "def change(widget, colors):\n",
    "    \"\"\" Update the foreground color of a widget to show the RGB color value\n",
    "    stored in a dictionary with keys 'red', 'green', and 'blue'. Does\n",
    "    *not* check the color value.\n",
    "    \"\"\"\n",
    "    new_val = '#'\n",
    "    for name in ('red', 'green', 'blue'):\n",
    "        new_val += colors[name].get()\n",
    "    widget['bg'] = new_val\n",
    "# Create the application.\n",
    "window = tkinter.Tk()\n",
    "frame = tkinter.Frame(window)\n",
    "frame.pack()\n",
    "# Set up text entry widgets for red, green, and blue, storing the\n",
    "# associated variables in a dictionary for later use.\n",
    "colors = {}\n",
    "for (name, col) in (('red', '#FF0000'),\n",
    "    ('green', '#00FF00'),\n",
    "    ('blue', '#0000FF')):\n",
    "    colors[name] = tkinter.StringVar()\n",
    "    colors[name].set('00')\n",
    "    entry = tkinter.Entry(frame, textvariable=colors[name], bg=col,\n",
    "    fg='white')\n",
    "    entry.pack()\n",
    "# Display the current color.\n",
    "current = tkinter.Label(frame, text=' ', bg='#FFFFFF')\n",
    "current.pack()\n",
    "# Give the user a way to trigger a color update.\n",
    "update = tkinter.Button(frame, text='Update',\n",
    "command=lambda: change(current, colors))\n",
    "update.pack()\n",
    "tkinter.mainloop()"
   ]
  },
  {
   "cell_type": "markdown",
   "metadata": {},
   "source": [
    "This is the most complicated GUI we have seen so far, but it can be understood\n",
    "by breaking it down into a model, some views, and a controller. The model is\n",
    "three StringVars that store the hexadecimal strings representing the current\n",
    "red, green, and blue components of the color to display. These three variables\n",
    "are kept in a dictionary indexed by name for easy access. The controller is\n",
    "function change, which concatenates the strings to create an RGB color and\n",
    "applies that color to the background of a widget. The views are the text-entry\n",
    "boxes for the color components, the label that displays the current color, and\n",
    "the button that tells the GUI to update itself.\n",
    "\n",
    "This program works, but neither the GUI nor the code is very attractive. It’s\n",
    "annoying to have to click the update button, and if a user ever types anything\n",
    "that isn’t a two-digit hexadecimal value into one of the text boxes, it results\n",
    "in an error. The exercises will ask you to redesign both the appearance and\n",
    "the structure of this program."
   ]
  },
  {
   "cell_type": "markdown",
   "metadata": {
    "collapsed": true
   },
   "source": [
    "### Laying Out the Widgets\n",
    "\n",
    "One of the things that makes the color picker GUI ugly is the fact that\n",
    "everything is arranged top to bottom. tkinter uses this layout by default, but\n",
    "we can usually come up with something better.\n",
    "To see how, let’s revisit the example from Getting Information from the User\n",
    "with the Entry Type, on page 322, placing the label and button horizontally.\n",
    "We tell tkinter to do this by providing a side argument to method pack:"
   ]
  },
  {
   "cell_type": "code",
   "execution_count": 1,
   "metadata": {
    "collapsed": true
   },
   "outputs": [],
   "source": [
    "import tkinter\n",
    "window = tkinter.Tk()\n",
    "frame = tkinter.Frame(window)\n",
    "frame.pack()\n",
    "label = tkinter.Label(frame, text='Name')\n",
    "label.pack(side='left')\n",
    "entry = tkinter.Entry(frame)\n",
    "entry.pack(side='left')\n",
    "window.mainloop()"
   ]
  },
  {
   "cell_type": "markdown",
   "metadata": {},
   "source": [
    "Setting side to \"left\" tells tkinter that the leftmost part of the label is to be placed\n",
    "next to the left edge of the frame, and then the leftmost part of the entry field\n",
    "is placed next to the right edge of the label—in short, that widgets are to bepacked using their left edges. We could equally well pack to the right, top, or\n",
    "bottom edges, or we could mix packings (though that can quickly become\n",
    "confusing).\n",
    "\n",
    "For even more control of our window layout, we can use a different layout\n",
    "manager called grid. As its name implies, it treats windows and frames as\n",
    "grids of rows and columns. To add the widget to the window, we call grid\n",
    "instead of pack. Do not call both on the same widget; they conflict with each\n",
    "other. The grid call can take several parameters, as shown in Table 27, grid()\n",
    "Parameters"
   ]
  },
  {
   "cell_type": "markdown",
   "metadata": {},
   "source": [
    "#### grid() Parameters\n",
    "#### row\n",
    "The number of the row to insert the widget into—row numbers\n",
    "begin at 0.\n",
    "#### column\n",
    "The number of the column to insert the widget into—column\n",
    "numbers begin at 0.\n",
    "#### rowspan\n",
    "The number of rows the widget occupies—the default number is 1.\n",
    "#### columnspan\n",
    "The number of columns the widget occupies—the default number is 1."
   ]
  },
  {
   "cell_type": "markdown",
   "metadata": {},
   "source": [
    "In the following code, we place the label in the upper left (row 0, column 0)\n",
    "and the entry field in the lower right (row 1, column 1)."
   ]
  },
  {
   "cell_type": "code",
   "execution_count": 2,
   "metadata": {
    "collapsed": true
   },
   "outputs": [],
   "source": [
    "import tkinter\n",
    "window = tkinter.Tk()\n",
    "frame = tkinter.Frame(window)\n",
    "frame.pack()\n",
    "label = tkinter.Label(frame, text='Name:')\n",
    "label.grid(row=0, column=0)\n",
    "entry = tkinter.Entry(frame)\n",
    "entry.grid(row=1, column=1)\n",
    "window.mainloop()"
   ]
  },
  {
   "cell_type": "markdown",
   "metadata": {},
   "source": [
    "Here is the resulting GUI; as you can see, this leaves the bottom-left and\n",
    "upper-right corners empty:"
   ]
  },
  {
   "cell_type": "markdown",
   "metadata": {},
   "source": [
    "## 16.5 Introducing a Few More Widgets\n",
    "\n",
    "To end this chapter, we will look at a few more commonly used widgets.\n",
    "### Using Text\n",
    "The Entry widget that we have been using since the start of this chapter allows\n",
    "for only a single line of text. If we want multiple lines of text, we use the Text\n",
    "widget instead, as shown here:"
   ]
  },
  {
   "cell_type": "code",
   "execution_count": 4,
   "metadata": {
    "collapsed": false
   },
   "outputs": [],
   "source": [
    "import tkinter\n",
    "def cross(text):\n",
    "    text.insert(tkinter.INSERT, 'X')\n",
    "window = tkinter.Tk()\n",
    "frame = tkinter.Frame(window)\n",
    "frame.pack()\n",
    "text = tkinter.Text(frame, height=3, width=10)\n",
    "text.pack()\n",
    "button = tkinter.Button(frame, text='Add', command=lambda: cross(text))\n",
    "button.pack()\n",
    "window.mainloop()"
   ]
  },
  {
   "cell_type": "markdown",
   "metadata": {},
   "source": [
    "Text provides a much richer set of methods than the other widgets we have\n",
    "seen so far. We can embed images in the text area, put in tags, select particular\n",
    "lines, and so on. The exercises will give you a chance to explore its\n",
    "capabilities.\n",
    "#### Using Checkbuttons\n",
    "Checkbuttons, often called checkboxes, have two states: on and off. When a\n",
    "user clicks a checkbutton, the state changes. We use a tkinter mutable variable\n",
    "to keep track of the user’s selection. Typically, an IntVar variable is used, and\n",
    "the values 1 and 0 indicate on and off, respectively. In the following code, we"
   ]
  },
  {
   "cell_type": "code",
   "execution_count": 5,
   "metadata": {
    "collapsed": true
   },
   "outputs": [],
   "source": [
    "import tkinter\n",
    "window = tkinter.Tk()\n",
    "frame = tkinter.Frame(window)\n",
    "frame.pack()\n",
    "red = tkinter.IntVar()\n",
    "green = tkinter.IntVar()\n",
    "blue = tkinter.IntVar()\n",
    "for (name, var) in (('R', red), ('G', green), ('B', blue)):\n",
    "    check = tkinter.Checkbutton(frame, text=name, variable=var)\n",
    "    check.pack(side='left')\n",
    "def recolor(widget, r, g, b):\n",
    "    color = '#'\n",
    "    for var in (r, g, b):\n",
    "        color += 'FF' if var.get() else '00'\n",
    "    widget.config(bg=color)\n",
    "label = tkinter.Label(frame, text='[ ]')\n",
    "button = tkinter.Button(frame, text='update',command=lambda: recolor(label, red, green, blue))\n",
    "button.pack(side='left')\n",
    "label.pack(side='left')\n",
    "window.mainloop()"
   ]
  },
  {
   "cell_type": "markdown",
   "metadata": {},
   "source": [
    "#### Using Menu\n",
    "The last widget we will look at is Menu.\n",
    "The following code uses this to create a simple text editor:"
   ]
  },
  {
   "cell_type": "code",
   "execution_count": 7,
   "metadata": {
    "collapsed": true
   },
   "outputs": [],
   "source": [
    "import tkinter\n",
    "import tkinter.filedialog as dialog\n",
    "def save(root, text):\n",
    "    data = text.get('0.0', tkinter.END)\n",
    "    filename = dialog.asksaveasfilename(\n",
    "        parent=root,\n",
    "        filetypes=[('Text', '*.txt')],title='Save as...')\n",
    "    writer = open(filename, 'w')\n",
    "    writer.write(data)\n",
    "    writer.close()\n",
    "def quit(root):\n",
    "    root.destroy()\n",
    "window = tkinter.Tk()\n",
    "text = tkinter.Text(window)\n",
    "text.pack()\n",
    "menubar = tkinter.Menu(window)\n",
    "filemenu = tkinter.Menu(menubar)\n",
    "filemenu.add_command(label='Save', command=lambda : save(window, text))\n",
    "filemenu.add_command(label='Quit', command=lambda : quit(window))\n",
    "menubar.add_cascade(label = 'File', menu=filemenu)\n",
    "window.config(menu=menubar)\n",
    "window.mainloop()"
   ]
  },
  {
   "cell_type": "markdown",
   "metadata": {},
   "source": [
    "The program begins by defining two functions: save, which saves the contents\n",
    "of a text widget, and quit, which closes the application. Function save uses\n",
    "tkFileDialog to create a standard “Save as...” dialog box, which will prompt the\n",
    "user for the name of a text file.\n",
    "\n",
    "After creating and packing the Text widget, the program creates a menu bar,\n",
    "which is the horizontal bar into which we can put one or more menus. It then\n",
    "creates a File menu and adds two menu items to it called Save and Quit. We\n",
    "then add the File menu to the menu bar and run mainloop.\n",
    "Here is the resulting GUI:"
   ]
  },
  {
   "cell_type": "markdown",
   "metadata": {},
   "source": [
    "## 16.6 Object-Oriented GUIs\n",
    "The GUIs we have built so far have not been particularly well structured.\n",
    "Most of the code to construct them has not been modularized in functions,\n",
    "and they have relied on global variables. We can get away with this for very\n",
    "small examples, but if we try to build larger applications this way, they will\n",
    "be difficult to understand and debug.\n",
    "\n",
    "For this reason, almost all real GUIs are built using classes and objects that\n",
    "tie models, views, and controllers together in one tidy package. In the counter\n",
    "shown next, for example, the application’s model is a member variable of\n",
    "class Counter, accessed using self.state, and its controllers are the methods upClick\n",
    "and quitClick."
   ]
  },
  {
   "cell_type": "code",
   "execution_count": 8,
   "metadata": {
    "collapsed": true
   },
   "outputs": [],
   "source": [
    "import tkinter\n",
    "class Counter:\n",
    "    \"\"\"A simple counter GUI using object-oriented programming.\"\"\"\n",
    "    def __init__(self, parent):\n",
    "        \"\"\"Create the GUI.\"\"\"\n",
    "        # Framework.\n",
    "        self.parent = parent\n",
    "        self.frame = tkinter.Frame(parent)\n",
    "        self.frame.pack()\n",
    "        # Model.\n",
    "        self.state = tkinter.IntVar()\n",
    "        self.state.set(1)\n",
    "        # Label displaying current state.\n",
    "        self.label = tkinter.Label(self.frame, textvariable=self.state)\n",
    "        self.label.pack()\n",
    "        # Buttons to control application.\n",
    "        self.up = tkinter.Button(self.frame, text='up', command=self.up_click)\n",
    "        self.up.pack(side='left')\n",
    "        self.right = tkinter.Button(self.frame, text='quit',\n",
    "        command=self.quit_click)\n",
    "        self.right.pack(side='left')\n",
    "    def up_click(self):\n",
    "        \"\"\"Handle click on 'up' button.\"\"\"\n",
    "        self.state.set(self.state.get() + 1)\n",
    "    def quit_click(self):\n",
    "        \"\"\"Handle click on 'quit' button.\"\"\"\n",
    "        self.parent.destroy()\n",
    "if __name__ == '__main__':\n",
    "    window = tkinter.Tk()\n",
    "    myapp = Counter(window)\n",
    "    window.mainloop()       "
   ]
  },
  {
   "cell_type": "markdown",
   "metadata": {},
   "source": [
    "# 16.7 Keeping the Concepts from Being a GUI Mess\n",
    "In this chapter, you learned the following:\n",
    "\n",
    "- Most modern programs provide a graphical user interface (GUI) for displaying\n",
    "information and interacting with users. GUIs are built out of\n",
    "widgets, such as buttons, sliders, and text panels; all modern programming\n",
    "languages provide at least one GUI toolkit.\n",
    "\n",
    "- Unlike command-line programs, GUI applications are usually event-driven.\n",
    "In other words, they react to events such as keystrokes and mouse clicks\n",
    "when and as they occur.\n",
    "\n",
    "- Experience shows that GUIs should be built using the model-view-controller\n",
    "pattern. The model is the data being manipulated; the view displays\n",
    "the current state of the data and gathers input from the user, while the\n",
    "controller decides what to do next.\n",
    "\n",
    "- Lambda expressions create functions that have no names. These are often\n",
    "used to define the actions that widgets should take when users provide\n",
    "input, without requiring global variables.\n",
    "\n",
    "- Designing usable GUIs is as challenging a craft as designing software.\n",
    "Being good at the latter doesn’t guarantee that you can do the former,\n",
    "but dozens of good books can help you get started."
   ]
  },
  {
   "cell_type": "code",
   "execution_count": null,
   "metadata": {
    "collapsed": true
   },
   "outputs": [],
   "source": []
  }
 ],
 "metadata": {
  "kernelspec": {
   "display_name": "Python [Root]",
   "language": "python",
   "name": "Python [Root]"
  },
  "language_info": {
   "codemirror_mode": {
    "name": "ipython",
    "version": 3
   },
   "file_extension": ".py",
   "mimetype": "text/x-python",
   "name": "python",
   "nbconvert_exporter": "python",
   "pygments_lexer": "ipython3",
   "version": "3.5.2"
  }
 },
 "nbformat": 4,
 "nbformat_minor": 0
}

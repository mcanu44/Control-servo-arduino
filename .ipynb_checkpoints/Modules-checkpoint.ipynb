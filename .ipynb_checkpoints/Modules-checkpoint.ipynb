{
 "cells": [
  {
   "cell_type": "markdown",
   "metadata": {},
   "source": [
    "# Selecting Which Code Gets Run on Import: __main__\n",
    "\n",
    "As we saw in Section 3.7, Writing and Running a Program, on page 59, every\n",
    "Python module can be run directly (from the command line or by running it\n",
    "from an IDE like IDLE), or, as we saw earlier in this section, it can be run\n",
    "indirectly (imported by another program). If a module is to be imported by\n",
    "another module, then the files containing the two modules should be saved\n",
    "in the same directory (an alternative approach would be to use absolute file\n",
    "paths, which are explained in Section 10.2, Opening a File, on page 173).\n",
    "\n",
    "**Sometimes we want to write code that should only be run when the module\n",
    "is run directly and not when the module is imported.** Python defines a special\n",
    "string variable called \"\\__name__\" in every module to help us figure this out.\n",
    "\n",
    "Suppose we put the following into echo.py:"
   ]
  },
  {
   "cell_type": "code",
   "execution_count": 1,
   "metadata": {
    "collapsed": false
   },
   "outputs": [
    {
     "name": "stdout",
     "output_type": "stream",
     "text": [
      "__name__ is __main__\n"
     ]
    }
   ],
   "source": [
    "print(\"__name__ is\", __name__)"
   ]
  },
  {
   "cell_type": "markdown",
   "metadata": {},
   "source": [
    "As promised, Python has created variable __name__. Its value is \"__main__\",\n",
    "meaning this module is the main program. But look at what happens when\n",
    "we import echo (instead of running it directly):"
   ]
  },
  {
   "cell_type": "code",
   "execution_count": 2,
   "metadata": {
    "collapsed": false
   },
   "outputs": [
    {
     "name": "stdout",
     "output_type": "stream",
     "text": [
      "__name__ is echo\n"
     ]
    }
   ],
   "source": [
    "import echo"
   ]
  },
  {
   "cell_type": "markdown",
   "metadata": {},
   "source": [
    "The same thing happens if we write a program that does nothing but import\n",
    "our echoing module. Create a file import_echo.py with this code inside it:"
   ]
  },
  {
   "cell_type": "code",
   "execution_count": 4,
   "metadata": {
    "collapsed": false
   },
   "outputs": [
    {
     "name": "stdout",
     "output_type": "stream",
     "text": [
      "After import, __name__ is import_echo and echo.__name__ is echo\n"
     ]
    }
   ],
   "source": [
    "import import_echo"
   ]
  },
  {
   "cell_type": "markdown",
   "metadata": {},
   "source": [
    "When Python imports a module, it sets that module’s \"\\__name\\__\" variable to be\n",
    "the name of the module rather than the special string \"\\__main\\__\". This means\n",
    "that a module can tell whether it is the main program. Now create a file named\n",
    "main_example.py with this code inside it:"
   ]
  },
  {
   "cell_type": "code",
   "execution_count": 5,
   "metadata": {
    "collapsed": false
   },
   "outputs": [
    {
     "name": "stdout",
     "output_type": "stream",
     "text": [
      "Another module is importing me.\n"
     ]
    }
   ],
   "source": [
    "import main_example"
   ]
  },
  {
   "cell_type": "markdown",
   "metadata": {},
   "source": [
    "Try it. See what happens when you run main_example.py directly and when you import it.\n",
    "\n",
    "Some of our modules contain not only function definitions but also programs.\n",
    "\n",
    "For example, create a new module temperature_program that contains the functions\n",
    "from temperature and a little program:\n",
    "\n",
    "When that module is run, it prompts the user to enter a value and, depending\n",
    "on the value entered, prints one of two messages:"
   ]
  },
  {
   "cell_type": "code",
   "execution_count": 2,
   "metadata": {
    "collapsed": false
   },
   "outputs": [],
   "source": [
    "import temperature_program"
   ]
  },
  {
   "cell_type": "markdown",
   "metadata": {},
   "source": [
    "Let’s create another module, baking.py, that uses the conversion function from module temperature_program. (See the following figure.)\n"
   ]
  },
  {
   "cell_type": "code",
   "execution_count": 4,
   "metadata": {
    "collapsed": false
   },
   "outputs": [],
   "source": [
    "import baking"
   ]
  },
  {
   "cell_type": "markdown",
   "metadata": {},
   "source": [
    "When baking.py is run, it imports temperature_program, so the program at the\n",
    "bottom of temperature_program.py is executed. (See Figure 2, Execution  of  the\n",
    "Imported temperature_program Module, on page 110.)\n",
    "Since we don’t care whether a temperature is above freezing when preheating\n",
    "our oven, when importing temperature_program.py we can prevent that part of the\n",
    "code from executing by putting it in an if __name__ == '__main__': block (Figure 3,\n",
    "The Main Temperature Program, on page 110).\n",
    "Now when baking.py is run, only the code from temperature_program that is outside\n",
    "of the if __name__ == '__main__': block is executed (Figure 4, Output for Execution\n",
    "of baking.py, on page 111).\n",
    "We will see other uses of __name__ in the following sections and in later chapters."
   ]
  },
  {
   "cell_type": "code",
   "execution_count": null,
   "metadata": {
    "collapsed": true
   },
   "outputs": [],
   "source": []
  }
 ],
 "metadata": {
  "kernelspec": {
   "display_name": "Python [Root]",
   "language": "python",
   "name": "Python [Root]"
  },
  "language_info": {
   "codemirror_mode": {
    "name": "ipython",
    "version": 3
   },
   "file_extension": ".py",
   "mimetype": "text/x-python",
   "name": "python",
   "nbconvert_exporter": "python",
   "pygments_lexer": "ipython3",
   "version": "3.5.2"
  }
 },
 "nbformat": 4,
 "nbformat_minor": 0
}
